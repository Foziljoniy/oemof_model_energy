{
 "cells": [
  {
   "cell_type": "code",
   "execution_count": 7,
   "metadata": {},
   "outputs": [],
   "source": [
    "import pandas as pd"
   ]
  },
  {
   "cell_type": "code",
   "execution_count": null,
   "metadata": {},
   "outputs": [],
   "source": []
  },
  {
   "cell_type": "code",
   "execution_count": 5,
   "metadata": {},
   "outputs": [],
   "source": [
    "from oemof.solph import EnergySystem, Model, Bus, Flow\n",
    "import pandas as pd"
   ]
  },
  {
   "cell_type": "code",
   "execution_count": 6,
   "metadata": {},
   "outputs": [
    {
     "name": "stderr",
     "output_type": "stream",
     "text": [
      "C:\\Users\\fozil\\AppData\\Local\\Temp\\ipykernel_2844\\273179600.py:1: FutureWarning: 'H' is deprecated and will be removed in a future version, please use 'h' instead.\n",
      "  datetime_index = pd.date_range('1/1/2022', periods=24, freq='H')\n",
      "d:\\apps for work\\anaconda\\envs\\oemof_env\\Lib\\site-packages\\oemof\\solph\\_energy_system.py:109: FutureWarning: The default behaviour will change in future versions.\n",
      "At the moment the last interval of an equidistant time index is added implicitly by default. Set 'infer_last_interval' explicitly 'True' or 'False' to avoid this warning. In future versions 'False' will be the defaultbehaviour\n",
      "  warnings.warn(msg, FutureWarning)\n"
     ]
    }
   ],
   "source": [
    "datetime_index = pd.date_range('1/1/2022', periods=24, freq='H')\n",
    "energysystem = EnergySystem(timeindex=datetime_index)"
   ]
  },
  {
   "cell_type": "code",
   "execution_count": null,
   "metadata": {},
   "outputs": [],
   "source": [
    "from oemof.solph import EnergySystem, Bus, Source, Sink, Flow, Model\n",
    "\n",
    "# Install oemof library if not already installed\n",
    "# !pip install oemof\n",
    "\n",
    "# Import necessary modules from oemof\n",
    "\n",
    "# Create an energy system\n",
    "datetime_index = pd.date_range('1/1/2022', periods=24, freq='H')\n",
    "energysystem = EnergySystem(timeindex=datetime_index)\n",
    "\n",
    "# Create a bus\n",
    "bus = Bus(label=\"electricity\")\n",
    "\n",
    "# Add the bus to the energy system\n",
    "energysystem.add(bus)\n",
    "\n",
    "# Create a source (e.g., a solar panel)\n",
    "source = Source(label=\"solar_panel\", outputs={bus: Flow(nominal_value=100)})\n",
    "\n",
    "# Add the source to the energy system\n",
    "energysystem.add(source)\n",
    "\n",
    "# Create a sink (e.g., a household)\n",
    "sink = Sink(label=\"household\", inputs={bus: Flow(nominal_value=50)})\n",
    "\n",
    "# Add the sink to the energy system\n",
    "energysystem.add(sink)\n",
    "\n",
    "# Create an optimization model\n",
    "model = Model(energysystem)\n",
    "\n",
    "# Solve the model\n",
    "model.solve(solver='cbc')\n",
    "\n",
    "# Process results\n",
    "results = model.results()\n",
    "print(results)"
   ]
  },
  {
   "cell_type": "code",
   "execution_count": null,
   "metadata": {},
   "outputs": [],
   "source": []
  }
 ],
 "metadata": {
  "kernelspec": {
   "display_name": "oemof_env",
   "language": "python",
   "name": "python3"
  },
  "language_info": {
   "codemirror_mode": {
    "name": "ipython",
    "version": 3
   },
   "file_extension": ".py",
   "mimetype": "text/x-python",
   "name": "python",
   "nbconvert_exporter": "python",
   "pygments_lexer": "ipython3",
   "version": "3.13.2"
  }
 },
 "nbformat": 4,
 "nbformat_minor": 2
}
